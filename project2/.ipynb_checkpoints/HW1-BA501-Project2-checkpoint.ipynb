{
 "cells": [
  {
   "cell_type": "code",
   "execution_count": 102,
   "metadata": {
    "collapsed": false
   },
   "outputs": [
    {
     "name": "stdout",
     "output_type": "stream",
     "text": [
      "<class 'pandas.core.frame.DataFrame'>\n",
      "RangeIndex: 39958 entries, 0 to 39957\n",
      "Data columns (total 7 columns):\n",
      "country          39958 non-null object\n",
      "date             39958 non-null object\n",
      "experiment_id    39958 non-null int64\n",
      "order_id         39958 non-null object\n",
      "spend_usd        39958 non-null float64\n",
      "user_id          39958 non-null object\n",
      "vertical         39958 non-null object\n",
      "dtypes: float64(1), int64(1), object(5)\n",
      "memory usage: 2.1+ MB\n"
     ]
    },
    {
     "data": {
      "text/html": [
       "<div>\n",
       "<table border=\"1\" class=\"dataframe\">\n",
       "  <thead>\n",
       "    <tr style=\"text-align: right;\">\n",
       "      <th></th>\n",
       "      <th>country</th>\n",
       "      <th>date</th>\n",
       "      <th>experiment_id</th>\n",
       "      <th>order_id</th>\n",
       "      <th>spend_usd</th>\n",
       "      <th>user_id</th>\n",
       "      <th>vertical</th>\n",
       "    </tr>\n",
       "  </thead>\n",
       "  <tbody>\n",
       "    <tr>\n",
       "      <th>0</th>\n",
       "      <td>US</td>\n",
       "      <td>2017-04-02</td>\n",
       "      <td>12624549</td>\n",
       "      <td>6720123150182430132</td>\n",
       "      <td>49.99</td>\n",
       "      <td>3659561261588336546</td>\n",
       "      <td>ANDROID_APPS</td>\n",
       "    </tr>\n",
       "    <tr>\n",
       "      <th>1</th>\n",
       "      <td>US</td>\n",
       "      <td>2017-04-01</td>\n",
       "      <td>12624549</td>\n",
       "      <td>17511438899767627798</td>\n",
       "      <td>0.99</td>\n",
       "      <td>3659561261588336546</td>\n",
       "      <td>ANDROID_APPS</td>\n",
       "    </tr>\n",
       "    <tr>\n",
       "      <th>2</th>\n",
       "      <td>US</td>\n",
       "      <td>2017-04-04</td>\n",
       "      <td>12624549</td>\n",
       "      <td>1549342062436664018</td>\n",
       "      <td>39.99</td>\n",
       "      <td>3659561261588336546</td>\n",
       "      <td>ANDROID_APPS</td>\n",
       "    </tr>\n",
       "    <tr>\n",
       "      <th>3</th>\n",
       "      <td>US</td>\n",
       "      <td>2017-04-04</td>\n",
       "      <td>12624549</td>\n",
       "      <td>7771425263197855716</td>\n",
       "      <td>19.99</td>\n",
       "      <td>3659561261588336546</td>\n",
       "      <td>ANDROID_APPS</td>\n",
       "    </tr>\n",
       "    <tr>\n",
       "      <th>4</th>\n",
       "      <td>US</td>\n",
       "      <td>2017-04-01</td>\n",
       "      <td>12624549</td>\n",
       "      <td>17943210556580942992</td>\n",
       "      <td>19.99</td>\n",
       "      <td>3659561261588336546</td>\n",
       "      <td>ANDROID_APPS</td>\n",
       "    </tr>\n",
       "  </tbody>\n",
       "</table>\n",
       "</div>"
      ],
      "text/plain": [
       "  country        date  experiment_id              order_id  spend_usd  \\\n",
       "0      US  2017-04-02       12624549   6720123150182430132      49.99   \n",
       "1      US  2017-04-01       12624549  17511438899767627798       0.99   \n",
       "2      US  2017-04-04       12624549   1549342062436664018      39.99   \n",
       "3      US  2017-04-04       12624549   7771425263197855716      19.99   \n",
       "4      US  2017-04-01       12624549  17943210556580942992      19.99   \n",
       "\n",
       "               user_id      vertical  \n",
       "0  3659561261588336546  ANDROID_APPS  \n",
       "1  3659561261588336546  ANDROID_APPS  \n",
       "2  3659561261588336546  ANDROID_APPS  \n",
       "3  3659561261588336546  ANDROID_APPS  \n",
       "4  3659561261588336546  ANDROID_APPS  "
      ]
     },
     "execution_count": 102,
     "metadata": {},
     "output_type": "execute_result"
    }
   ],
   "source": [
    "\"\"\"\n",
    "First Class\n",
    "\"\"\"\n",
    "import numpy as np\n",
    "import pandas as pd\n",
    "import scipy\n",
    "import matplotlib.pyplot as plt\n",
    "import matplotlib.cm as cm\n",
    "\n",
    "\n",
    "#load data\n",
    "Location = './orders_new.csv'\n",
    "orders_df = pd.read_csv(Location)\n",
    "\n",
    "orders_df.info()\n",
    "orders_df.head()\n",
    "\n",
    "#np.unique(orders_df[\"vertical\"])\n",
    "\n",
    "#Question1:How do you handle duplicate values in a dataset in Python?\n",
    "#what does this question mean?\n",
    "\n",
    "    "
   ]
  },
  {
   "cell_type": "markdown",
   "metadata": {},
   "source": [
    "**Question 2 :**  \n",
    "\n",
    "You are given two tables - friend_request and request_accepted.\n",
    "Friend_request contains requester_id, time and sent_to_id and request_accepted table contains time, \n",
    "acceptor_id and requestor_id. How will you determine the overall acceptance rate of requests? \n",
    "\n",
    "**SQL solution**\n",
    "\n",
    "```sql\n",
    "SELECT float(accept_num)/request_num as acceptance rate\n",
    "FROM\n",
    "(SELECT count(ra.request_id) as accept_num, count(fr.request_id) as request_num\n",
    "FROM friend_request fr LEFT JOIN request_accepted ra ON (fr.request_id = ra.request_id and fr.sent_to_id = ra.acceptor_id)) t\n",
    "```\n",
    "\n",
    "**Python solution**\n",
    "\n",
    "```python\n",
    "pd.merge(friend_request, request_accepted, how = 'left', left_on = ['request_id','sent_to_id'], right_on = ['request_id','acceptor_id']\n",
    "acceptance_rate = count(friend_accept[\"request_id\"])/float(len(friend_request))  \n",
    "```"
   ]
  },
  {
   "cell_type": "markdown",
   "metadata": {
    "collapsed": false
   },
   "source": [
    "#Question 3:\n",
    "\"\"\"\n",
    "Do some research and summarize the business model of your dream company, or company that you interview with.\n",
    "What is the product\n",
    "Who are the customer\n",
    "How do they make money\n",
    "Why do you want to work for this company?\n",
    "(Optional) If you were CEO, what would you do to increase company’s revenue in the next 5 years?\n",
    "\n",
    "I will have an interview of a startup named D, which is growing fast in the field of food delivery. \n",
    "\n",
    "\"\"\"\n",
    "\n",
    "\"\"\"\n",
    "Answer: \n",
    "1. What is the product?\n",
    "   D provides a platform for food delivering. The restaurants in a partnership with D can be found in the D’s ordering\n",
    "   page, and for the customers, they can make purchase and wait for the food delivering service by D’s delivery \n",
    "   specialist named Dasher. \n",
    "   \n",
    "2. Who are the customer?\n",
    "   Two types of customer. One is Restaurants, the other is the individual customer. \n",
    "   \n",
    "3. How do they make money? (Business Model)\n",
    "   By providing a platform of food delivering. The restaurants in partnership would pay D for the useage of the platform\n",
    "   as an intermmediary agent, and I guess the payment should be proportional with the ordering amount. \n",
    "   \n",
    "   Besides, for the individual customers who order food on D would pay the deliveryman shipping fee. D can \n",
    "   earn money from the shipping service, competing with the UPS, Amazon fresh, etc..\n",
    "\n",
    "   From my understanding, D may have profit of Advertising or ranking (like the sponsored AD in google) when the \n",
    "   customer using their search for food nearby.\n",
    "   \n",
    "4. Why do you want to work for this company?\n",
    "   Firstly, the size of this company is moderate and I think I may have chance to do impactful work here. It provides \n",
    "   SQL bootcamp and would stay iteratively in the department of Data Analytics, Product, Engineer, etc.. which is a good\n",
    "   chance to understanding the logic flow and relationship between each of these departments;\n",
    "   Secondly, D creates jobs for the deliveryman. It is the most popular company based on the idea of 'sharing economy'.\n",
    "   And I think it may have a great growing potential;\n",
    "   More sepcifically, the position I am applying would deal with the company's growing data. I can apply my knowledge in\n",
    "   statistics to the data analytics and uncover the values hidden in these data. I have passion in the analytics role and\n",
    "   want to be an excellent Data Analyst in the future.\n",
    "   \n",
    "5. (Optional) If you were CEO, what would you do to increase company’s revenue in the next 5 years?\n",
    "   1. Increase customers(growth) and gurantee the customer satisfaction (customer retention). By using historical data to\n",
    "   analyze what is the priority customers, in another words, captures the core customers' feature and target on them by \n",
    "   using either subscription way or giving more promotion. Intuitively, I guess the core customers would be the one whose \n",
    "   time is tight and don't want to dine in and such customers may usually have relatively high salary. \n",
    "   Taking an counter-example, by wiki 'A housewife is a woman whose occupation is running or managing her family's \n",
    "   home—caring for her children; buying, cooking, and storing food for the family', a approximate 40% of women in the US\n",
    "   stays at home at any one time, and 8-10% who married never work. Obviously, they are not the potential customers for \n",
    "   the food ordering. \n",
    "   \n",
    "   2. New product line can bring revenue to company if it is innovate(without competetor temporarily) or competitive(cost\n",
    "   less). Since the main business of D is for food delivering and as I mentioned above, firstly, sharing economy can \n",
    "   bring profit to company and housewife is not our current product's potential customer. So why not convert them into \n",
    "   our new product/service's customer? One idea I got is there is an increasing number of hand-crafted food by housewife,\n",
    "   they usually sell the food by wechat/craiglist or other platform lack of professional selling service. D can launch a \n",
    "   new service and provide the selling plaftform as well as shipping service to such business after carefully examination \n",
    "   of the market space.\n",
    "   \n",
    "\"\"\""
   ]
  },
  {
   "cell_type": "markdown",
   "metadata": {},
   "source": [
    "\n",
    "**Second Class**\n",
    "\n",
    "**Question1**\n",
    "\n",
    "Similarly to PrintDailyTimeSeries() in the sample code, write a Python function called PrintCumulativeTimeSeries(). Specifically:\n",
    " \n",
    "The function takes three inputs:\n",
    "experiment_id\n",
    "country\n",
    "vertical\n",
    " \n",
    "The function produces two outputs:\n",
    "A time series chart showing the cumulative uplift (hint: search for cumsum)\n",
    "Print out the cumulative % uplift on revenue, experiment vs. control. Hint: (red - blue) / blue %"
   ]
  },
  {
   "cell_type": "code",
   "execution_count": 124,
   "metadata": {
    "collapsed": false
   },
   "outputs": [
    {
     "data": {
      "image/png": "[encoded data removed]",
      "text/plain": [
       "<matplotlib.figure.Figure at 0x11526d450>"
      ]
     },
     "metadata": {},
     "output_type": "display_data"
    }
   ],
   "source": [
    "import datetime\n",
    "\n",
    "np.unique(orders_df[\"experiment_id\"])\n",
    "#experiment_id indicates the red_button or blue_button\n",
    "#red_button=12624548\n",
    "#blue_button=12624549\n",
    "\n",
    "def PrintDailyTimeSeries(orders_df, experiment_id, country, vertical):\n",
    "    # subset the data by the function parameters\n",
    "    sub_data1 = orders_df.loc[(orders_df.experiment_id == experiment_id) & (orders_df.country == country) & (orders_df.vertical == vertical)]\n",
    "    sub_data2 = orders_df.loc[(orders_df.experiment_id != experiment_id) & (orders_df.country == country) & (orders_df.vertical == vertical)]\n",
    "\n",
    "    # group by date\n",
    "    grouped_date_sum1 = sub_data1.groupby('date')['spend_usd'].sum()\n",
    "    cumsum1 = pd.DataFrame(data=grouped_date_sum1).spend_usd.cumsum()\n",
    "    \n",
    "    grouped_date_sum2 = sub_data2.groupby('date')['spend_usd'].sum()\n",
    "    cumsum2 = pd.DataFrame(data=grouped_date_sum2).spend_usd.cumsum()\n",
    "    \n",
    "    #Plot Time series line chart\n",
    "    plt.figure()\n",
    "    cumsum1.plot(color = 'red')\n",
    "    cumsum2.plot(color = 'blue')\n",
    "\n",
    "    plt.legend()\n",
    "    plt.show()\n",
    "    \n",
    "\n",
    "PrintDailyTimeSeries(orders_df, 12624548, 'US','ANDROID_APPS')\n",
    "    \n",
    "  \n"
   ]
  },
  {
   "cell_type": "markdown",
   "metadata": {},
   "source": [
    "**Question2**\n",
    "Using our data, draw a histogram which plots both US and JP data on the same plot."
   ]
  },
  {
   "cell_type": "code",
   "execution_count": 105,
   "metadata": {
    "collapsed": false
   },
   "outputs": [
    {
     "data": {
      "image/png": "[encoded data removed]",
      "text/plain": [
       "<matplotlib.figure.Figure at 0x110cd87d0>"
      ]
     },
     "metadata": {},
     "output_type": "display_data"
    }
   ],
   "source": [
    "series_jp = orders_df[\"spend_usd\"][(orders_df.country == \"JP\")]\n",
    "series_us = orders_df[\"spend_usd\"][(orders_df.country == \"US\")]\n",
    "# play with it first\n",
    "fig, ax = plt.subplots(ncols=2, sharex=True, sharey=True)\n",
    "ax[0].hist(series_jp, bins=20)\n",
    "ax[1].hist(series_us, bins=20)\n",
    "\n",
    "ax[0].set_title(\"JP\")\n",
    "ax[1].set_title(\"US\")\n",
    "ax[0].set_ylabel(\"Buyer count\")\n",
    "ax[0].set_xlabel(\"Spend\")\n",
    "ax[1].set_xlabel(\"Spend\")\n",
    "\n",
    "#histogram by group in one graph\n",
    "\n",
    "\n",
    "plt.show()"
   ]
  },
  {
   "cell_type": "code",
   "execution_count": 118,
   "metadata": {
    "collapsed": false
   },
   "outputs": [
    {
     "name": "stdout",
     "output_type": "stream",
     "text": [
      "type\n",
      "0    32\n",
      "1    13\n",
      "2    28\n",
      "Name: value, dtype: int64\n"
     ]
    },
    {
     "ename": "AttributeError",
     "evalue": "'Series' object has no attribute 'columns'",
     "output_type": "error",
     "traceback": [
      "\u001b[0;31m---------------------------------------------------------------------------\u001b[0m",
      "\u001b[0;31mAttributeError\u001b[0m                            Traceback (most recent call last)",
      "\u001b[0;32m<ipython-input-118-8e6133aff89c>\u001b[0m in \u001b[0;36m<module>\u001b[0;34m()\u001b[0m\n\u001b[1;32m      9\u001b[0m \u001b[0;32mprint\u001b[0m \u001b[0mag\u001b[0m\u001b[0;34m\u001b[0m\u001b[0m\n\u001b[1;32m     10\u001b[0m \u001b[0;34m\u001b[0m\u001b[0m\n\u001b[0;32m---> 11\u001b[0;31m \u001b[0mag\u001b[0m\u001b[0;34m.\u001b[0m\u001b[0mcolumns\u001b[0m \u001b[0;34m=\u001b[0m \u001b[0mag\u001b[0m\u001b[0;34m.\u001b[0m\u001b[0mcolumns\u001b[0m\u001b[0;34m.\u001b[0m\u001b[0mdroplevel\u001b[0m\u001b[0;34m(\u001b[0m\u001b[0;34m)\u001b[0m\u001b[0;34m\u001b[0m\u001b[0m\n\u001b[0m",
      "\u001b[0;32m/Users/yin/anaconda/lib/python2.7/site-packages/pandas/core/generic.pyc\u001b[0m in \u001b[0;36m__getattr__\u001b[0;34m(self, name)\u001b[0m\n\u001b[1;32m   2666\u001b[0m         if (name in self._internal_names_set or name in self._metadata or\n\u001b[1;32m   2667\u001b[0m                 name in self._accessors):\n\u001b[0;32m-> 2668\u001b[0;31m             \u001b[0;32mreturn\u001b[0m \u001b[0mobject\u001b[0m\u001b[0;34m.\u001b[0m\u001b[0m__getattribute__\u001b[0m\u001b[0;34m(\u001b[0m\u001b[0mself\u001b[0m\u001b[0;34m,\u001b[0m \u001b[0mname\u001b[0m\u001b[0;34m)\u001b[0m\u001b[0;34m\u001b[0m\u001b[0m\n\u001b[0m\u001b[1;32m   2669\u001b[0m         \u001b[0;32melse\u001b[0m\u001b[0;34m:\u001b[0m\u001b[0;34m\u001b[0m\u001b[0m\n\u001b[1;32m   2670\u001b[0m             \u001b[0;32mif\u001b[0m \u001b[0mname\u001b[0m \u001b[0;32min\u001b[0m \u001b[0mself\u001b[0m\u001b[0;34m.\u001b[0m\u001b[0m_info_axis\u001b[0m\u001b[0;34m:\u001b[0m\u001b[0;34m\u001b[0m\u001b[0m\n",
      "\u001b[0;31mAttributeError\u001b[0m: 'Series' object has no attribute 'columns'"
     ]
    }
   ],
   "source": [
    "value = np.random.randint(1, 20, 10)\n",
    "type = np.random.choice([0, 1, 2], 10)\n",
    "df = pd.DataFrame({'value': value, 'type': type})\n",
    "df['dummy'] = 1\n",
    "#print df\n",
    "#ag = df.groupby(['type']).sum().unstack()\n",
    "\n",
    "ag =df.groupby('type')['value'].sum()\n",
    "print ag\n",
    "\n",
    "ag.columns = ag.columns.droplevel()"
   ]
  },
  {
   "cell_type": "code",
   "execution_count": null,
   "metadata": {
    "collapsed": true
   },
   "outputs": [],
   "source": []
  }
 ],
 "metadata": {
  "anaconda-cloud": {},
  "kernelspec": {
   "display_name": "Python [default]",
   "language": "python",
   "name": "python2"
  },
  "language_info": {
   "codemirror_mode": {
    "name": "ipython",
    "version": 2
   },
   "file_extension": ".py",
   "mimetype": "text/x-python",
   "name": "python",
   "nbconvert_exporter": "python",
   "pygments_lexer": "ipython2",
   "version": "2.7.12"
  }
 },
 "nbformat": 4,
 "nbformat_minor": 1
}
