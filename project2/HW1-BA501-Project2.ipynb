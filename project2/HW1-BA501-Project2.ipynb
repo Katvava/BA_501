{
 "cells": [
  {
   "cell_type": "code",
   "execution_count": 7,
   "metadata": {
    "collapsed": false
   },
   "outputs": [
    {
     "name": "stdout",
     "output_type": "stream",
     "text": [
      "<class 'pandas.core.frame.DataFrame'>\n",
      "RangeIndex: 39958 entries, 0 to 39957\n",
      "Data columns (total 7 columns):\n",
      "country          39958 non-null object\n",
      "date             39958 non-null object\n",
      "experiment_id    39958 non-null int64\n",
      "order_id         39958 non-null object\n",
      "spend_usd        39958 non-null float64\n",
      "user_id          39958 non-null object\n",
      "vertical         39958 non-null object\n",
      "dtypes: float64(1), int64(1), object(5)\n",
      "memory usage: 2.1+ MB\n"
     ]
    },
    {
     "data": {
      "text/html": [
       "<div>\n",
       "<table border=\"1\" class=\"dataframe\">\n",
       "  <thead>\n",
       "    <tr style=\"text-align: right;\">\n",
       "      <th></th>\n",
       "      <th>country</th>\n",
       "      <th>date</th>\n",
       "      <th>experiment_id</th>\n",
       "      <th>order_id</th>\n",
       "      <th>spend_usd</th>\n",
       "      <th>user_id</th>\n",
       "      <th>vertical</th>\n",
       "    </tr>\n",
       "  </thead>\n",
       "  <tbody>\n",
       "    <tr>\n",
       "      <th>0</th>\n",
       "      <td>US</td>\n",
       "      <td>2017-04-02</td>\n",
       "      <td>12624549</td>\n",
       "      <td>6720123150182430132</td>\n",
       "      <td>49.99</td>\n",
       "      <td>3659561261588336546</td>\n",
       "      <td>ANDROID_APPS</td>\n",
       "    </tr>\n",
       "    <tr>\n",
       "      <th>1</th>\n",
       "      <td>US</td>\n",
       "      <td>2017-04-01</td>\n",
       "      <td>12624549</td>\n",
       "      <td>17511438899767627798</td>\n",
       "      <td>0.99</td>\n",
       "      <td>3659561261588336546</td>\n",
       "      <td>ANDROID_APPS</td>\n",
       "    </tr>\n",
       "    <tr>\n",
       "      <th>2</th>\n",
       "      <td>US</td>\n",
       "      <td>2017-04-04</td>\n",
       "      <td>12624549</td>\n",
       "      <td>1549342062436664018</td>\n",
       "      <td>39.99</td>\n",
       "      <td>3659561261588336546</td>\n",
       "      <td>ANDROID_APPS</td>\n",
       "    </tr>\n",
       "    <tr>\n",
       "      <th>3</th>\n",
       "      <td>US</td>\n",
       "      <td>2017-04-04</td>\n",
       "      <td>12624549</td>\n",
       "      <td>7771425263197855716</td>\n",
       "      <td>19.99</td>\n",
       "      <td>3659561261588336546</td>\n",
       "      <td>ANDROID_APPS</td>\n",
       "    </tr>\n",
       "    <tr>\n",
       "      <th>4</th>\n",
       "      <td>US</td>\n",
       "      <td>2017-04-01</td>\n",
       "      <td>12624549</td>\n",
       "      <td>17943210556580942992</td>\n",
       "      <td>19.99</td>\n",
       "      <td>3659561261588336546</td>\n",
       "      <td>ANDROID_APPS</td>\n",
       "    </tr>\n",
       "  </tbody>\n",
       "</table>\n",
       "</div>"
      ],
      "text/plain": [
       "  country        date  experiment_id              order_id  spend_usd  \\\n",
       "0      US  2017-04-02       12624549   6720123150182430132      49.99   \n",
       "1      US  2017-04-01       12624549  17511438899767627798       0.99   \n",
       "2      US  2017-04-04       12624549   1549342062436664018      39.99   \n",
       "3      US  2017-04-04       12624549   7771425263197855716      19.99   \n",
       "4      US  2017-04-01       12624549  17943210556580942992      19.99   \n",
       "\n",
       "               user_id      vertical  \n",
       "0  3659561261588336546  ANDROID_APPS  \n",
       "1  3659561261588336546  ANDROID_APPS  \n",
       "2  3659561261588336546  ANDROID_APPS  \n",
       "3  3659561261588336546  ANDROID_APPS  \n",
       "4  3659561261588336546  ANDROID_APPS  "
      ]
     },
     "execution_count": 7,
     "metadata": {},
     "output_type": "execute_result"
    }
   ],
   "source": [
    "\"\"\"\n",
    "First Class\n",
    "\"\"\"\n",
    "import numpy as np\n",
    "import pandas as pd\n",
    "import scipy\n",
    "import matplotlib as plb\n",
    "\n",
    "#load data\n",
    "Location = r'./orders_new.csv'\n",
    "df = pd.read_csv(Location)\n",
    "df.info()\n",
    "df.head()\n",
    "#Question1:How do you handle duplicate values in a dataset in Python?\n",
    "#what does this question mean?\n",
    "\n",
    "    "
   ]
  },
  {
   "cell_type": "code",
   "execution_count": 2,
   "metadata": {
    "collapsed": false
   },
   "outputs": [
    {
     "data": {
      "text/plain": [
       "'\\npd.merge(friend_request, request_accepted, how = \\'left\\', left_on = [\\'request_id\\',\\'sent_to_id\\'], right_on = [\\'request_id\\',\\'acceptor_id\\']\\nacceptance_rate = count(friend_accept[\"request_id\"])/float(len(friend_request))  \\n\\n'"
      ]
     },
     "execution_count": 2,
     "metadata": {},
     "output_type": "execute_result"
    }
   ],
   "source": [
    "#Question 2 :  \n",
    "\"\"\"\n",
    "You are given two tables - friend_request and request_accepted.\n",
    "Friend_request contains requester_id, time and sent_to_id and request_accepted table contains time, \n",
    "acceptor_id and requestor_id. How will you determine the overall acceptance rate of requests? \n",
    "\n",
    "\"\"\"\n",
    "#SQL solution\n",
    "\"\"\"\n",
    "select float(accept_num)/request_num as acceptance rate\n",
    "from\n",
    "(SELECT count(ra.request_id) as accept_num, count(fr.request_id) as request_num\n",
    "FROM friend_request fr LEFT JOIN request_accepted ra ON (fr.request_id = ra.request_id and fr.sent_to_id = ra.acceptor_id)) t\n",
    "\"\"\"\n",
    "#Python solution\n",
    "\"\"\"\n",
    "pd.merge(friend_request, request_accepted, how = 'left', left_on = ['request_id','sent_to_id'], right_on = ['request_id','acceptor_id']\n",
    "acceptance_rate = count(friend_accept[\"request_id\"])/float(len(friend_request))  \n",
    "\n",
    "\"\"\"\n",
    "      "
   ]
  },
  {
   "cell_type": "code",
   "execution_count": 3,
   "metadata": {
    "collapsed": false
   },
   "outputs": [
    {
     "data": {
      "text/plain": [
       "\"\\nAnswer: \\n1. What is the product?\\n   D provides a platform for food delivering. The restaurants in a partnership with D can be found in the D\\xe2\\x80\\x99s ordering\\n   page, and for the customers, they can make purchase and wait for the food delivering service by D\\xe2\\x80\\x99s delivery \\n   specialist named Dasher. \\n   \\n2. Who are the customer?\\n   Two types of customer. One is Restaurants, the other is the individual customer. \\n   \\n3. How do they make money? (Business Model)\\n   By providing a platform of food delivering. The restaurants in partnership would pay D for the useage of the platform\\n   as an intermmediary agent, and I guess the payment should be proportional with the ordering amount. \\n   \\n   Besides, for the individual customers who order food on D would pay the deliveryman shipping fee. D can \\n   earn money from the shipping service, competing with the UPS, Amazon fresh, etc..\\n\\n   From my understanding, D may have profit of Advertising or ranking (like the sponsored AD in google) when the \\n   customer using their search for food nearby.\\n   \\n4. Why do you want to work for this company?\\n   Firstly, the size of this company is moderate and I think I may have chance to do impactful work here. It provides \\n   SQL bootcamp and would stay iteratively in the department of Data Analytics, Product, Engineer, etc.. which is a good\\n   chance to understanding the logic flow and relationship between each of these departments;\\n   Secondly, D creates jobs for the deliveryman. It is the most popular company based on the idea of 'sharing economy'.\\n   And I think it may have a great growing potential;\\n   More sepcifically, the position I am applying would deal with the company's growing data. I can apply my knowledge in\\n   statistics to the data analytics and uncover the values hidden in these data. I have passion in the analytics role and\\n   want to be an excellent Data Analyst in the future.\\n   \\n5. (Optional) If you were CEO, what would you do to increase company\\xe2\\x80\\x99s revenue in the next 5 years?\\n   1. Increase customers(growth) and gurantee the customer satisfaction (customer retention). By using historical data to\\n   analyze what is the priority customers, in another words, captures the core customers' feature and target on them by \\n   using either subscription way or giving more promotion. Intuitively, I guess the core customers would be the one whose \\n   time is tight and don't want to dine in and such customers may usually have relatively high salary. \\n   Taking an counter-example, by wiki 'A housewife is a woman whose occupation is running or managing her family's \\n   home\\xe2\\x80\\x94caring for her children; buying, cooking, and storing food for the family', a approximate 40% of women in the US\\n   stays at home at any one time, and 8-10% who married never work. Obviously, they are not the potential customers for \\n   the food ordering. \\n   \\n   2. New product line can bring revenue to company if it is innovate(without competetor temporarily) or competitive(cost\\n   less). Since the main business of D is for food delivering and as I mentioned above, firstly, sharing economy can \\n   bring profit to company and housewife is not our current product's potential customer. So why not convert them into \\n   our new product/service's customer? One idea I got is there is an increasing number of hand-crafted food by housewife,\\n   they usually sell the food by wechat/craiglist or other platform lack of professional selling service. D can launch a \\n   new service and provide the selling plaftform as well as shipping service to such business after carefully examination \\n   of the market space.\\n   \\n\""
      ]
     },
     "execution_count": 3,
     "metadata": {},
     "output_type": "execute_result"
    }
   ],
   "source": [
    "#Question 3:\n",
    "\"\"\"\n",
    "Do some research and summarize the business model of your dream company, or company that you interview with.\n",
    "What is the product\n",
    "Who are the customer\n",
    "How do they make money\n",
    "Why do you want to work for this company?\n",
    "(Optional) If you were CEO, what would you do to increase company’s revenue in the next 5 years?\n",
    "\n",
    "I will have an interview of a startup named D, which is growing fast in the field of food delivery. \n",
    "\n",
    "\"\"\"\n",
    "\n",
    "\"\"\"\n",
    "Answer: \n",
    "1. What is the product?\n",
    "   D provides a platform for food delivering. The restaurants in a partnership with D can be found in the D’s ordering\n",
    "   page, and for the customers, they can make purchase and wait for the food delivering service by D’s delivery \n",
    "   specialist named Dasher. \n",
    "   \n",
    "2. Who are the customer?\n",
    "   Two types of customer. One is Restaurants, the other is the individual customer. \n",
    "   \n",
    "3. How do they make money? (Business Model)\n",
    "   By providing a platform of food delivering. The restaurants in partnership would pay D for the useage of the platform\n",
    "   as an intermmediary agent, and I guess the payment should be proportional with the ordering amount. \n",
    "   \n",
    "   Besides, for the individual customers who order food on D would pay the deliveryman shipping fee. D can \n",
    "   earn money from the shipping service, competing with the UPS, Amazon fresh, etc..\n",
    "\n",
    "   From my understanding, D may have profit of Advertising or ranking (like the sponsored AD in google) when the \n",
    "   customer using their search for food nearby.\n",
    "   \n",
    "4. Why do you want to work for this company?\n",
    "   Firstly, the size of this company is moderate and I think I may have chance to do impactful work here. It provides \n",
    "   SQL bootcamp and would stay iteratively in the department of Data Analytics, Product, Engineer, etc.. which is a good\n",
    "   chance to understanding the logic flow and relationship between each of these departments;\n",
    "   Secondly, D creates jobs for the deliveryman. It is the most popular company based on the idea of 'sharing economy'.\n",
    "   And I think it may have a great growing potential;\n",
    "   More sepcifically, the position I am applying would deal with the company's growing data. I can apply my knowledge in\n",
    "   statistics to the data analytics and uncover the values hidden in these data. I have passion in the analytics role and\n",
    "   want to be an excellent Data Analyst in the future.\n",
    "   \n",
    "5. (Optional) If you were CEO, what would you do to increase company’s revenue in the next 5 years?\n",
    "   1. Increase customers(growth) and gurantee the customer satisfaction (customer retention). By using historical data to\n",
    "   analyze what is the priority customers, in another words, captures the core customers' feature and target on them by \n",
    "   using either subscription way or giving more promotion. Intuitively, I guess the core customers would be the one whose \n",
    "   time is tight and don't want to dine in and such customers may usually have relatively high salary. \n",
    "   Taking an counter-example, by wiki 'A housewife is a woman whose occupation is running or managing her family's \n",
    "   home—caring for her children; buying, cooking, and storing food for the family', a approximate 40% of women in the US\n",
    "   stays at home at any one time, and 8-10% who married never work. Obviously, they are not the potential customers for \n",
    "   the food ordering. \n",
    "   \n",
    "   2. New product line can bring revenue to company if it is innovate(without competetor temporarily) or competitive(cost\n",
    "   less). Since the main business of D is for food delivering and as I mentioned above, firstly, sharing economy can \n",
    "   bring profit to company and housewife is not our current product's potential customer. So why not convert them into \n",
    "   our new product/service's customer? One idea I got is there is an increasing number of hand-crafted food by housewife,\n",
    "   they usually sell the food by wechat/craiglist or other platform lack of professional selling service. D can launch a \n",
    "   new service and provide the selling plaftform as well as shipping service to such business after carefully examination \n",
    "   of the market space.\n",
    "   \n",
    "\"\"\""
   ]
  },
  {
   "cell_type": "code",
   "execution_count": null,
   "metadata": {
    "collapsed": true
   },
   "outputs": [],
   "source": [
    "\"\"\"\n",
    "Second Class\n",
    "\"\"\"\n",
    "#Question1\n",
    "\"\"\"\n",
    "Similarly to PrintDailyTimeSeries() in the sample code, write a Python function called PrintCumulativeTimeSeries(). Specifically:\n",
    " \n",
    "The function takes three inputs:\n",
    "experiment_id\n",
    "country\n",
    "vertical\n",
    " \n",
    "The function produces two outputs:\n",
    "A time series chart showing the cumulative uplift (hint: search for cumsum)\n",
    "Print out the cumulative % uplift on revenue, experiment vs. control. Hint: (red - blue) / blue %\n",
    "\n",
    "\"\"\"\n",
    "\n",
    "\n"
   ]
  }
 ],
 "metadata": {
  "anaconda-cloud": {},
  "kernelspec": {
   "display_name": "Python [default]",
   "language": "python",
   "name": "python2"
  },
  "language_info": {
   "codemirror_mode": {
    "name": "ipython",
    "version": 2
   },
   "file_extension": ".py",
   "mimetype": "text/x-python",
   "name": "python",
   "nbconvert_exporter": "python",
   "pygments_lexer": "ipython2",
   "version": "2.7.12"
  }
 },
 "nbformat": 4,
 "nbformat_minor": 1
}
